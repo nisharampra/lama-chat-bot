{
  "cells": [
    {
      "cell_type": "markdown",
      "metadata": {
        "id": "view-in-github",
        "colab_type": "text"
      },
      "source": [
        "<a href=\"https://colab.research.google.com/github/nisharampra/lama-chat-bot/blob/main/lama_chat_bot.ipynb\" target=\"_parent\"><img src=\"https://colab.research.google.com/assets/colab-badge.svg\" alt=\"Open In Colab\"/></a>"
      ]
    },
    {
      "cell_type": "code",
      "execution_count": null,
      "metadata": {
        "colab": {
          "base_uri": "https://localhost:8080/"
        },
        "id": "XKdnit6N7lYo",
        "outputId": "ef31402f-b6a7-42e2-8c21-71b477e6a087"
      },
      "outputs": [
        {
          "name": "stdout",
          "output_type": "stream",
          "text": [
            "Requirement already satisfied: nltk in /usr/local/lib/python3.10/dist-packages (3.8.1)\n",
            "Requirement already satisfied: click in /usr/local/lib/python3.10/dist-packages (from nltk) (8.1.7)\n",
            "Requirement already satisfied: joblib in /usr/local/lib/python3.10/dist-packages (from nltk) (1.4.2)\n",
            "Requirement already satisfied: regex>=2021.8.3 in /usr/local/lib/python3.10/dist-packages (from nltk) (2024.5.15)\n",
            "Requirement already satisfied: tqdm in /usr/local/lib/python3.10/dist-packages (from nltk) (4.66.5)\n"
          ]
        }
      ],
      "source": [
        "!pip install nltk\n"
      ]
    },
    {
      "cell_type": "code",
      "execution_count": null,
      "metadata": {
        "id": "_kj4S_z97pU4"
      },
      "outputs": [],
      "source": [
        "# Import libraries\n",
        "import nltk\n",
        "import random\n",
        "from nltk.chat.util import Chat, reflections\n"
      ]
    },
    {
      "cell_type": "code",
      "execution_count": null,
      "metadata": {
        "colab": {
          "background_save": true,
          "base_uri": "https://localhost:8080/"
        },
        "id": "0JW8Bhr47qhq",
        "outputId": "633ed503-5243-4057-b4cb-b5ff6fb577ee"
      },
      "outputs": [
        {
          "name": "stdout",
          "output_type": "stream",
          "text": [
            "Llama Chatbot: Hi there! I'm a friendly llama chatbot. Type 'quit' to exit.\n",
            "Llama Chatbot: Hi! How's it going?\n",
            "Llama Chatbot: I'm not sure how to respond to that!\n",
            "Llama Chatbot: I'm not sure how to respond to that!\n",
            "Llama Chatbot: I'm not sure how to respond to that!\n",
            "Llama Chatbot: I'm not sure how to respond to that!\n",
            "Llama Chatbot: I'm not sure how to respond to that!\n",
            "Llama Chatbot: Hi! How's it going?\n"
          ]
        }
      ],
      "source": [
        "from nltk.chat.util import Chat, reflections\n",
        "\n",
        "# Example responses\n",
        "pairs = [\n",
        "    (r\"my name is (.*)\",\n",
        "     [\"Hello %1, nice to meet you! I'm a llama chatbot.\", \"Hi %1! How can a llama assist you today?\"]),\n",
        "\n",
        "    (r\"what is your name ?\",\n",
        "     [\"I am a llama chatbot created to chat with you!\", \"I'm a virtual llama, here to help!\"]),\n",
        "\n",
        "    (r\"how are you ?\",\n",
        "     [\"I'm a llama, so I'm always feeling woolly and wonderful!\", \"Doing great, just munching on some virtual grass!\"]),\n",
        "\n",
        "    (r\"sorry (.*)\",\n",
        "     [\"It's okay, we llamas forgive easily!\", \"No worries, I'm just a llama.\"]),\n",
        "\n",
        "    (r\"i'm (.*) (good|well|great|fantastic)\",\n",
        "     [\"Glad to hear that you're %2!\", \"That's wonderful to hear!\"]),\n",
        "\n",
        "    (r\"(hi|hello|hey|hola|howdy)(.*)\",\n",
        "     [\"Hello there!\", \"Hi! How's it going?\"]),\n",
        "\n",
        "    (r\"(.*)(what|who) are you ?\",\n",
        "     [\"I'm a chatbot llama, here to chat and share some llama love!\"]),\n",
        "\n",
        "    (r\"(do|you) (like|love) blackpink(.*)?\",\n",
        "     [\"I'm a llama, but I do enjoy some good music! Blackpink in your area!\", \"Blackpink is great! Even llamas like their catchy tunes!\"]),\n",
        "\n",
        "    (r\"quit\",\n",
        "     [\"Goodbye! Have a llama-tastic day!\", \"See you later!\"]),\n",
        "]\n",
        "\n",
        "# Create chatbot\n",
        "chatbot = Chat(pairs, reflections)\n",
        "\n",
        "# Start conversation\n",
        "print(\"Llama Chatbot: Hi there! I'm a friendly llama chatbot. Type 'quit' to exit.\")\n",
        "\n",
        "while True:\n",
        "    user_input = input(\"You: \")\n",
        "    if user_input.lower() == 'quit':\n",
        "        print(\"Llama Chatbot: Goodbye! Have a llama-tastic day!\")\n",
        "        break\n",
        "    else:\n",
        "        response = chatbot.respond(user_input)\n",
        "        if response:\n",
        "            print(f\"Llama Chatbot: {response}\")\n",
        "        else:\n",
        "            print(\"Llama Chatbot: I'm not sure how to respond to that!\")\n",
        "\n"
      ]
    },
    {
      "cell_type": "code",
      "execution_count": null,
      "metadata": {
        "id": "Yk5soVMl_EIA"
      },
      "outputs": [],
      "source": []
    },
    {
      "cell_type": "code",
      "execution_count": null,
      "metadata": {
        "id": "-L2Kq-bS_EJv"
      },
      "outputs": [],
      "source": []
    }
  ],
  "metadata": {
    "colab": {
      "provenance": [],
      "authorship_tag": "ABX9TyNz0vCjyvuy7roZjNcceoPb",
      "include_colab_link": true
    },
    "kernelspec": {
      "display_name": "Python 3",
      "name": "python3"
    },
    "language_info": {
      "name": "python"
    }
  },
  "nbformat": 4,
  "nbformat_minor": 0
}